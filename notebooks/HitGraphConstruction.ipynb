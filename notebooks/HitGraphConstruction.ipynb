{
 "cells": [
  {
   "cell_type": "markdown",
   "metadata": {},
   "source": [
    "# Hit graph construction\n",
    "\n",
    "This is a notebook for developing and analyzing the procedure for constructing hit graphs."
   ]
  },
  {
   "cell_type": "code",
   "execution_count": 1,
   "metadata": {},
   "outputs": [
    {
     "name": "stderr",
     "output_type": "stream",
     "text": [
      "In /home/benjamin/b2/externals/v01-10-00/Linux_x86_64/common/lib/python3.8/site-packages/matplotlib/mpl-data/stylelib/belle2.mplstyle: \n",
      "The mathtext.fallback_to_cm rcparam was deprecated in Matplotlib 3.3 and will be removed two minor releases later.\n",
      "In /home/benjamin/b2/externals/v01-10-00/Linux_x86_64/common/lib/python3.8/site-packages/matplotlib/mpl-data/stylelib/belle2.mplstyle: Support for setting the 'mathtext.fallback_to_cm' rcParam is deprecated since 3.3 and will be removed two minor releases later; use 'mathtext.fallback : 'cm' instead.\n",
      "In /home/benjamin/b2/externals/v01-10-00/Linux_x86_64/common/lib/python3.8/site-packages/matplotlib/mpl-data/stylelib/belle2.mplstyle: \n",
      "The validate_bool_maybe_none function was deprecated in Matplotlib 3.3 and will be removed two minor releases later.\n",
      "In /home/benjamin/b2/externals/v01-10-00/Linux_x86_64/common/lib/python3.8/site-packages/matplotlib/mpl-data/stylelib/belle2_serif.mplstyle: \n",
      "The mathtext.fallback_to_cm rcparam was deprecated in Matplotlib 3.3 and will be removed two minor releases later.\n",
      "In /home/benjamin/b2/externals/v01-10-00/Linux_x86_64/common/lib/python3.8/site-packages/matplotlib/mpl-data/stylelib/belle2_serif.mplstyle: Support for setting the 'mathtext.fallback_to_cm' rcParam is deprecated since 3.3 and will be removed two minor releases later; use 'mathtext.fallback : 'cm' instead.\n",
      "In /home/benjamin/b2/externals/v01-10-00/Linux_x86_64/common/lib/python3.8/site-packages/matplotlib/mpl-data/stylelib/belle2_serif.mplstyle: \n",
      "The validate_bool_maybe_none function was deprecated in Matplotlib 3.3 and will be removed two minor releases later.\n"
     ]
    }
   ],
   "source": [
    "import os\n",
    "import sys\n",
    "import numpy as np\n",
    "import pandas as pd\n",
    "import matplotlib.pyplot as plt\n",
    "\n",
    "from xtracker.graph_creation import (\n",
    "    calc_dphi, calc_eta, select_segments, construct_graph, select_hits, split_detector_sections, form_layer_pairs, \n",
    "    construct_segments\n",
    ")\n"
   ]
  },
  {
   "cell_type": "markdown",
   "metadata": {},
   "source": [
    "## Read the event data"
   ]
  },
  {
   "cell_type": "code",
   "execution_count": 2,
   "metadata": {},
   "outputs": [],
   "source": [
    "input_dir = \"/home/benjamin/xtracker/examples/data/events_belle2_vtxonly\""
   ]
  },
  {
   "cell_type": "code",
   "execution_count": 3,
   "metadata": {},
   "outputs": [],
   "source": [
    "evtid = 0\n",
    "\n",
    "hits = pd.read_hdf(os.path.expandvars( input_dir + '/graph_id_{}.h5'.format(evtid+1) ), 'hits')\n",
    "truth = pd.read_hdf(os.path.expandvars( input_dir + '/graph_id_{}.h5'.format(evtid+1) ), 'truth')\n",
    "particles = pd.read_hdf(os.path.expandvars( input_dir + '/graph_id_{}.h5'.format(evtid+1) ), 'particles')"
   ]
  },
  {
   "cell_type": "code",
   "execution_count": 4,
   "metadata": {},
   "outputs": [
    {
     "data": {
      "text/html": [
       "<div>\n",
       "<style scoped>\n",
       "    .dataframe tbody tr th:only-of-type {\n",
       "        vertical-align: middle;\n",
       "    }\n",
       "\n",
       "    .dataframe tbody tr th {\n",
       "        vertical-align: top;\n",
       "    }\n",
       "\n",
       "    .dataframe thead th {\n",
       "        text-align: right;\n",
       "    }\n",
       "</style>\n",
       "<table border=\"1\" class=\"dataframe\">\n",
       "  <thead>\n",
       "    <tr style=\"text-align: right;\">\n",
       "      <th></th>\n",
       "      <th>particle_id</th>\n",
       "      <th>layer</th>\n",
       "      <th>x</th>\n",
       "      <th>y</th>\n",
       "      <th>z</th>\n",
       "      <th>t</th>\n",
       "      <th>hit_id</th>\n",
       "    </tr>\n",
       "  </thead>\n",
       "  <tbody>\n",
       "    <tr>\n",
       "      <th>146</th>\n",
       "      <td>-1</td>\n",
       "      <td>5</td>\n",
       "      <td>-14.028400</td>\n",
       "      <td>1.635160</td>\n",
       "      <td>4.517033</td>\n",
       "      <td>0.0</td>\n",
       "      <td>146</td>\n",
       "    </tr>\n",
       "    <tr>\n",
       "      <th>147</th>\n",
       "      <td>-1</td>\n",
       "      <td>5</td>\n",
       "      <td>-14.013500</td>\n",
       "      <td>0.279369</td>\n",
       "      <td>13.279670</td>\n",
       "      <td>0.0</td>\n",
       "      <td>147</td>\n",
       "    </tr>\n",
       "    <tr>\n",
       "      <th>148</th>\n",
       "      <td>-1</td>\n",
       "      <td>5</td>\n",
       "      <td>-3.827914</td>\n",
       "      <td>-13.534138</td>\n",
       "      <td>17.163440</td>\n",
       "      <td>0.0</td>\n",
       "      <td>148</td>\n",
       "    </tr>\n",
       "    <tr>\n",
       "      <th>149</th>\n",
       "      <td>-1</td>\n",
       "      <td>5</td>\n",
       "      <td>-5.295061</td>\n",
       "      <td>-12.979749</td>\n",
       "      <td>17.190859</td>\n",
       "      <td>0.0</td>\n",
       "      <td>149</td>\n",
       "    </tr>\n",
       "    <tr>\n",
       "      <th>150</th>\n",
       "      <td>-1</td>\n",
       "      <td>5</td>\n",
       "      <td>9.838179</td>\n",
       "      <td>-10.232788</td>\n",
       "      <td>5.890278</td>\n",
       "      <td>0.0</td>\n",
       "      <td>150</td>\n",
       "    </tr>\n",
       "  </tbody>\n",
       "</table>\n",
       "</div>"
      ],
      "text/plain": [
       "     particle_id  layer          x          y          z    t  hit_id\n",
       "146           -1      5 -14.028400   1.635160   4.517033  0.0     146\n",
       "147           -1      5 -14.013500   0.279369  13.279670  0.0     147\n",
       "148           -1      5  -3.827914 -13.534138  17.163440  0.0     148\n",
       "149           -1      5  -5.295061 -12.979749  17.190859  0.0     149\n",
       "150           -1      5   9.838179 -10.232788   5.890278  0.0     150"
      ]
     },
     "execution_count": 4,
     "metadata": {},
     "output_type": "execute_result"
    }
   ],
   "source": [
    "hits.tail()"
   ]
  },
  {
   "cell_type": "code",
   "execution_count": 5,
   "metadata": {},
   "outputs": [
    {
     "data": {
      "text/html": [
       "<div>\n",
       "<style scoped>\n",
       "    .dataframe tbody tr th:only-of-type {\n",
       "        vertical-align: middle;\n",
       "    }\n",
       "\n",
       "    .dataframe tbody tr th {\n",
       "        vertical-align: top;\n",
       "    }\n",
       "\n",
       "    .dataframe thead th {\n",
       "        text-align: right;\n",
       "    }\n",
       "</style>\n",
       "<table border=\"1\" class=\"dataframe\">\n",
       "  <thead>\n",
       "    <tr style=\"text-align: right;\">\n",
       "      <th></th>\n",
       "      <th>vx</th>\n",
       "      <th>vy</th>\n",
       "      <th>vz</th>\n",
       "      <th>px</th>\n",
       "      <th>py</th>\n",
       "      <th>pz</th>\n",
       "      <th>q</th>\n",
       "      <th>nhits</th>\n",
       "      <th>particle_id</th>\n",
       "    </tr>\n",
       "  </thead>\n",
       "  <tbody>\n",
       "    <tr>\n",
       "      <th>20</th>\n",
       "      <td>-0.014425</td>\n",
       "      <td>-0.092443</td>\n",
       "      <td>0.360131</td>\n",
       "      <td>-0.020497</td>\n",
       "      <td>-0.237043</td>\n",
       "      <td>-0.184142</td>\n",
       "      <td>1.0</td>\n",
       "      <td>5</td>\n",
       "      <td>20</td>\n",
       "    </tr>\n",
       "    <tr>\n",
       "      <th>21</th>\n",
       "      <td>-0.014425</td>\n",
       "      <td>-0.092443</td>\n",
       "      <td>0.360131</td>\n",
       "      <td>0.079128</td>\n",
       "      <td>-0.008389</td>\n",
       "      <td>0.176082</td>\n",
       "      <td>1.0</td>\n",
       "      <td>6</td>\n",
       "      <td>21</td>\n",
       "    </tr>\n",
       "    <tr>\n",
       "      <th>22</th>\n",
       "      <td>-0.014425</td>\n",
       "      <td>-0.092443</td>\n",
       "      <td>0.360131</td>\n",
       "      <td>-0.081475</td>\n",
       "      <td>0.000584</td>\n",
       "      <td>0.050003</td>\n",
       "      <td>-1.0</td>\n",
       "      <td>5</td>\n",
       "      <td>22</td>\n",
       "    </tr>\n",
       "    <tr>\n",
       "      <th>23</th>\n",
       "      <td>-0.012313</td>\n",
       "      <td>-0.101433</td>\n",
       "      <td>0.331061</td>\n",
       "      <td>0.341712</td>\n",
       "      <td>0.106868</td>\n",
       "      <td>0.145252</td>\n",
       "      <td>1.0</td>\n",
       "      <td>6</td>\n",
       "      <td>23</td>\n",
       "    </tr>\n",
       "    <tr>\n",
       "      <th>24</th>\n",
       "      <td>0.000000</td>\n",
       "      <td>0.000000</td>\n",
       "      <td>0.000000</td>\n",
       "      <td>0.000000</td>\n",
       "      <td>0.000000</td>\n",
       "      <td>0.000000</td>\n",
       "      <td>0.0</td>\n",
       "      <td>0</td>\n",
       "      <td>-1</td>\n",
       "    </tr>\n",
       "  </tbody>\n",
       "</table>\n",
       "</div>"
      ],
      "text/plain": [
       "          vx        vy        vz        px        py        pz    q  nhits  \\\n",
       "20 -0.014425 -0.092443  0.360131 -0.020497 -0.237043 -0.184142  1.0      5   \n",
       "21 -0.014425 -0.092443  0.360131  0.079128 -0.008389  0.176082  1.0      6   \n",
       "22 -0.014425 -0.092443  0.360131 -0.081475  0.000584  0.050003 -1.0      5   \n",
       "23 -0.012313 -0.101433  0.331061  0.341712  0.106868  0.145252  1.0      6   \n",
       "24  0.000000  0.000000  0.000000  0.000000  0.000000  0.000000  0.0      0   \n",
       "\n",
       "    particle_id  \n",
       "20           20  \n",
       "21           21  \n",
       "22           22  \n",
       "23           23  \n",
       "24           -1  "
      ]
     },
     "execution_count": 5,
     "metadata": {},
     "output_type": "execute_result"
    }
   ],
   "source": [
    "particles.tail()"
   ]
  },
  {
   "cell_type": "code",
   "execution_count": 6,
   "metadata": {},
   "outputs": [
    {
     "data": {
      "text/html": [
       "<div>\n",
       "<style scoped>\n",
       "    .dataframe tbody tr th:only-of-type {\n",
       "        vertical-align: middle;\n",
       "    }\n",
       "\n",
       "    .dataframe tbody tr th {\n",
       "        vertical-align: top;\n",
       "    }\n",
       "\n",
       "    .dataframe thead th {\n",
       "        text-align: right;\n",
       "    }\n",
       "</style>\n",
       "<table border=\"1\" class=\"dataframe\">\n",
       "  <thead>\n",
       "    <tr style=\"text-align: right;\">\n",
       "      <th></th>\n",
       "      <th>hit_id</th>\n",
       "      <th>particle_id</th>\n",
       "      <th>weight</th>\n",
       "    </tr>\n",
       "  </thead>\n",
       "  <tbody>\n",
       "    <tr>\n",
       "      <th>146</th>\n",
       "      <td>146</td>\n",
       "      <td>-1</td>\n",
       "      <td>0</td>\n",
       "    </tr>\n",
       "    <tr>\n",
       "      <th>147</th>\n",
       "      <td>147</td>\n",
       "      <td>-1</td>\n",
       "      <td>0</td>\n",
       "    </tr>\n",
       "    <tr>\n",
       "      <th>148</th>\n",
       "      <td>148</td>\n",
       "      <td>-1</td>\n",
       "      <td>0</td>\n",
       "    </tr>\n",
       "    <tr>\n",
       "      <th>149</th>\n",
       "      <td>149</td>\n",
       "      <td>-1</td>\n",
       "      <td>0</td>\n",
       "    </tr>\n",
       "    <tr>\n",
       "      <th>150</th>\n",
       "      <td>150</td>\n",
       "      <td>-1</td>\n",
       "      <td>0</td>\n",
       "    </tr>\n",
       "  </tbody>\n",
       "</table>\n",
       "</div>"
      ],
      "text/plain": [
       "     hit_id  particle_id  weight\n",
       "146     146           -1       0\n",
       "147     147           -1       0\n",
       "148     148           -1       0\n",
       "149     149           -1       0\n",
       "150     150           -1       0"
      ]
     },
     "execution_count": 6,
     "metadata": {},
     "output_type": "execute_result"
    }
   ],
   "source": [
    "truth.tail()"
   ]
  },
  {
   "cell_type": "markdown",
   "metadata": {},
   "source": [
    "## Hit selection"
   ]
  },
  {
   "cell_type": "code",
   "execution_count": 7,
   "metadata": {},
   "outputs": [],
   "source": [
    "pt_min = 0. # GeV"
   ]
  },
  {
   "cell_type": "code",
   "execution_count": 8,
   "metadata": {},
   "outputs": [],
   "source": [
    "hits = (select_hits(hits, truth, particles, pt_min=pt_min)\n",
    "        .assign(evtid=0)\n",
    "        .reset_index(drop=True))"
   ]
  },
  {
   "cell_type": "markdown",
   "metadata": {},
   "source": [
    "## Geometry ID pairs\n",
    "\n",
    "We use geometry IDs to select initial set of hit pair segments.\n",
    "For now we're starting with barrel hits only and can use the layer number as the ID.\n",
    "We'll then use consecutive layer numbers as the criteria."
   ]
  },
  {
   "cell_type": "code",
   "execution_count": 9,
   "metadata": {},
   "outputs": [],
   "source": [
    "n_det_layers = 5\n",
    "segment_type = 'all'\n",
    "\n",
    "\n",
    "layer_pairs = form_layer_pairs(n_det_layers, segment_type)"
   ]
  },
  {
   "cell_type": "markdown",
   "metadata": {},
   "source": [
    "## Segment construction\n",
    "\n",
    "Now for every layer pair we construct hit-pair segments."
   ]
  },
  {
   "cell_type": "code",
   "execution_count": 10,
   "metadata": {},
   "outputs": [],
   "source": [
    "def get_segments(hits, layer_pairs):\n",
    "\n",
    "    # Group hits by geometry ID\n",
    "    layer_groups = hits.groupby('layer')\n",
    "\n",
    "    segments = []\n",
    "    \n",
    "    for (layer1, layer2) in layer_pairs:\n",
    "        # Find and join all hit pairs\n",
    "        try:\n",
    "            hits1 = layer_groups.get_group(layer1)\n",
    "            hits2 = layer_groups.get_group(layer2)\n",
    "        # If an event has no hits on a layer, we get a KeyError.\n",
    "        # In that case we just skip to the next layer pair\n",
    "        except KeyError as e:\n",
    "            continue\n",
    "        # Construct the segments\n",
    "        \n",
    "        # Start with all possible pairs of hits\n",
    "        keys = ['evtid', 'r', 'phi', 'z', 'particle_id', 'hit_id', 'layer']\n",
    "        hit_pairs = hits1[keys].reset_index().merge(\n",
    "            hits2[keys].reset_index(), on='evtid', suffixes=('_1', '_2'))\n",
    "        \n",
    "        # Compute line through the points\n",
    "        dphi = calc_dphi(hit_pairs.phi_1, hit_pairs.phi_2)\n",
    "        dz = hit_pairs.z_2 - hit_pairs.z_1\n",
    "        dr = hit_pairs.r_2 - hit_pairs.r_1\n",
    "        phi_slope = dphi / dr\n",
    "        z0 = hit_pairs.z_1 - hit_pairs.r_1 * dz / dr\n",
    "        \n",
    "        # We do not have good filter for same layer or ingoing edges\n",
    "        z0[ hit_pairs.layer_1 >= hit_pairs.layer_2 ] = 0.0 \n",
    "        phi_slope[ hit_pairs.layer_1 == hit_pairs.layer_2 ] = 0.0 \n",
    "        \n",
    "        # Identify the true pairs\n",
    "        y = (hit_pairs.particle_id_1 == hit_pairs.particle_id_2) & (hit_pairs.hit_id_1+1 == hit_pairs.hit_id_2)\n",
    "            \n",
    "        # Put the results in a new dataframe\n",
    "        segments.append(hit_pairs[['evtid', 'index_1', 'index_2', 'layer_1', 'layer_2']]\n",
    "                        .assign(dphi=dphi, dz=dz, dr=dr, y=y, phi_slope=phi_slope, z0=z0))\n",
    "        \n",
    "    return pd.concat(segments, ignore_index=True)"
   ]
  },
  {
   "cell_type": "code",
   "execution_count": 11,
   "metadata": {},
   "outputs": [],
   "source": [
    "segments = get_segments(hits, layer_pairs)"
   ]
  },
  {
   "cell_type": "code",
   "execution_count": 12,
   "metadata": {},
   "outputs": [
    {
     "data": {
      "text/html": [
       "<div>\n",
       "<style scoped>\n",
       "    .dataframe tbody tr th:only-of-type {\n",
       "        vertical-align: middle;\n",
       "    }\n",
       "\n",
       "    .dataframe tbody tr th {\n",
       "        vertical-align: top;\n",
       "    }\n",
       "\n",
       "    .dataframe thead th {\n",
       "        text-align: right;\n",
       "    }\n",
       "</style>\n",
       "<table border=\"1\" class=\"dataframe\">\n",
       "  <thead>\n",
       "    <tr style=\"text-align: right;\">\n",
       "      <th></th>\n",
       "      <th>evtid</th>\n",
       "      <th>index_1</th>\n",
       "      <th>index_2</th>\n",
       "      <th>layer_1</th>\n",
       "      <th>layer_2</th>\n",
       "      <th>dphi</th>\n",
       "      <th>dz</th>\n",
       "      <th>dr</th>\n",
       "      <th>phi_slope</th>\n",
       "      <th>z0</th>\n",
       "    </tr>\n",
       "  </thead>\n",
       "  <tbody>\n",
       "    <tr>\n",
       "      <th>count</th>\n",
       "      <td>9234.0</td>\n",
       "      <td>9234.000000</td>\n",
       "      <td>9234.000000</td>\n",
       "      <td>9234.000000</td>\n",
       "      <td>9234.000000</td>\n",
       "      <td>9.234000e+03</td>\n",
       "      <td>9234.000000</td>\n",
       "      <td>9.234000e+03</td>\n",
       "      <td>9234.000000</td>\n",
       "      <td>9234.000000</td>\n",
       "    </tr>\n",
       "    <tr>\n",
       "      <th>mean</th>\n",
       "      <td>0.0</td>\n",
       "      <td>73.403400</td>\n",
       "      <td>73.403400</td>\n",
       "      <td>2.526424</td>\n",
       "      <td>2.526424</td>\n",
       "      <td>-4.424541e-18</td>\n",
       "      <td>0.000000</td>\n",
       "      <td>6.078934e-17</td>\n",
       "      <td>-0.005739</td>\n",
       "      <td>0.188792</td>\n",
       "    </tr>\n",
       "    <tr>\n",
       "      <th>std</th>\n",
       "      <td>0.0</td>\n",
       "      <td>42.860204</td>\n",
       "      <td>42.860204</td>\n",
       "      <td>1.033714</td>\n",
       "      <td>1.033714</td>\n",
       "      <td>1.799694e+00</td>\n",
       "      <td>6.698092</td>\n",
       "      <td>2.384369e+00</td>\n",
       "      <td>1.204903</td>\n",
       "      <td>4.975037</td>\n",
       "    </tr>\n",
       "    <tr>\n",
       "      <th>min</th>\n",
       "      <td>0.0</td>\n",
       "      <td>0.000000</td>\n",
       "      <td>0.000000</td>\n",
       "      <td>1.000000</td>\n",
       "      <td>1.000000</td>\n",
       "      <td>-3.140317e+00</td>\n",
       "      <td>-36.591163</td>\n",
       "      <td>-5.331892e+00</td>\n",
       "      <td>-6.747953</td>\n",
       "      <td>-36.325941</td>\n",
       "    </tr>\n",
       "    <tr>\n",
       "      <th>25%</th>\n",
       "      <td>0.0</td>\n",
       "      <td>36.000000</td>\n",
       "      <td>36.000000</td>\n",
       "      <td>2.000000</td>\n",
       "      <td>2.000000</td>\n",
       "      <td>-1.526806e+00</td>\n",
       "      <td>-3.358997</td>\n",
       "      <td>-7.984918e-01</td>\n",
       "      <td>-0.199301</td>\n",
       "      <td>0.000000</td>\n",
       "    </tr>\n",
       "    <tr>\n",
       "      <th>50%</th>\n",
       "      <td>0.0</td>\n",
       "      <td>73.000000</td>\n",
       "      <td>73.000000</td>\n",
       "      <td>2.500000</td>\n",
       "      <td>2.500000</td>\n",
       "      <td>0.000000e+00</td>\n",
       "      <td>0.000000</td>\n",
       "      <td>0.000000e+00</td>\n",
       "      <td>0.000000</td>\n",
       "      <td>0.000000</td>\n",
       "    </tr>\n",
       "    <tr>\n",
       "      <th>75%</th>\n",
       "      <td>0.0</td>\n",
       "      <td>111.000000</td>\n",
       "      <td>111.000000</td>\n",
       "      <td>3.000000</td>\n",
       "      <td>3.000000</td>\n",
       "      <td>1.526806e+00</td>\n",
       "      <td>3.358997</td>\n",
       "      <td>7.984918e-01</td>\n",
       "      <td>0.185407</td>\n",
       "      <td>0.000000</td>\n",
       "    </tr>\n",
       "    <tr>\n",
       "      <th>max</th>\n",
       "      <td>0.0</td>\n",
       "      <td>145.000000</td>\n",
       "      <td>145.000000</td>\n",
       "      <td>4.000000</td>\n",
       "      <td>4.000000</td>\n",
       "      <td>3.140317e+00</td>\n",
       "      <td>36.591163</td>\n",
       "      <td>5.331892e+00</td>\n",
       "      <td>7.362736</td>\n",
       "      <td>35.617602</td>\n",
       "    </tr>\n",
       "  </tbody>\n",
       "</table>\n",
       "</div>"
      ],
      "text/plain": [
       "        evtid      index_1      index_2      layer_1      layer_2  \\\n",
       "count  9234.0  9234.000000  9234.000000  9234.000000  9234.000000   \n",
       "mean      0.0    73.403400    73.403400     2.526424     2.526424   \n",
       "std       0.0    42.860204    42.860204     1.033714     1.033714   \n",
       "min       0.0     0.000000     0.000000     1.000000     1.000000   \n",
       "25%       0.0    36.000000    36.000000     2.000000     2.000000   \n",
       "50%       0.0    73.000000    73.000000     2.500000     2.500000   \n",
       "75%       0.0   111.000000   111.000000     3.000000     3.000000   \n",
       "max       0.0   145.000000   145.000000     4.000000     4.000000   \n",
       "\n",
       "               dphi           dz            dr    phi_slope           z0  \n",
       "count  9.234000e+03  9234.000000  9.234000e+03  9234.000000  9234.000000  \n",
       "mean  -4.424541e-18     0.000000  6.078934e-17    -0.005739     0.188792  \n",
       "std    1.799694e+00     6.698092  2.384369e+00     1.204903     4.975037  \n",
       "min   -3.140317e+00   -36.591163 -5.331892e+00    -6.747953   -36.325941  \n",
       "25%   -1.526806e+00    -3.358997 -7.984918e-01    -0.199301     0.000000  \n",
       "50%    0.000000e+00     0.000000  0.000000e+00     0.000000     0.000000  \n",
       "75%    1.526806e+00     3.358997  7.984918e-01     0.185407     0.000000  \n",
       "max    3.140317e+00    36.591163  5.331892e+00     7.362736    35.617602  "
      ]
     },
     "execution_count": 12,
     "metadata": {},
     "output_type": "execute_result"
    }
   ],
   "source": [
    "segments.describe()"
   ]
  },
  {
   "cell_type": "markdown",
   "metadata": {},
   "source": [
    "## Plot the full segment distributions"
   ]
  },
  {
   "cell_type": "code",
   "execution_count": 27,
   "metadata": {},
   "outputs": [
    {
     "data": {
      "image/png": "[encoded data removed]",
      "text/plain": [
       "<Figure size 1008x432 with 2 Axes>"
      ]
     },
     "metadata": {
      "needs_background": "light"
     },
     "output_type": "display_data"
    }
   ],
   "source": [
    "plt.figure(figsize=(14,6))\n",
    "\n",
    "true_segs = segments[segments.y]\n",
    "fake_segs = segments[segments.y == False]\n",
    "\n",
    "plt.subplot(121)\n",
    "binning=dict(bins=150, range=(-2.2, 2.2))\n",
    "plt.hist(fake_segs.phi_slope, label='fake', log=True, **binning)\n",
    "plt.hist(true_segs.phi_slope, label='true', **binning)\n",
    "plt.xlabel('$\\Delta \\phi / \\Delta r$ [rad/mm]')\n",
    "plt.legend(loc=0)\n",
    "\n",
    "plt.subplot(122)\n",
    "binning=dict(bins=50, range=(-50, 50))\n",
    "plt.hist(fake_segs.z0, label='fake', log=True, **binning)\n",
    "plt.hist(true_segs.z0, label='true', **binning)\n",
    "plt.xlabel('$z_0$ [mm]')\n",
    "plt.legend(loc=0)\n",
    "\n",
    "plt.tight_layout()"
   ]
  },
  {
   "cell_type": "markdown",
   "metadata": {},
   "source": [
    "## Segment selection"
   ]
  },
  {
   "cell_type": "code",
   "execution_count": 14,
   "metadata": {},
   "outputs": [],
   "source": [
    "def select_segments(segments, phi_slope_min, phi_slope_max, z0_max):\n",
    "    sel_mask = ((segments.phi_slope > phi_slope_min) &\n",
    "                (segments.phi_slope < phi_slope_max) &\n",
    "                (segments.z0 < z0_max) &  (segments.z0 > -z0_max) )\n",
    "    return segments.assign(selected=sel_mask)\n",
    "\n",
    "def segment_efficiency(segments):\n",
    "    return (segments.y & segments.selected).sum() / segments.y.sum()\n",
    "\n",
    "def segment_purity(segment):\n",
    "    return (segments.y & segments.selected).sum() / segments.selected.sum()"
   ]
  },
  {
   "cell_type": "code",
   "execution_count": 30,
   "metadata": {},
   "outputs": [],
   "source": [
    "# Choose some cuts\n",
    "phi_slope_min = -2.25\n",
    "phi_slope_max =  2.25\n",
    "z0_max =  100"
   ]
  },
  {
   "cell_type": "code",
   "execution_count": 31,
   "metadata": {},
   "outputs": [
    {
     "name": "stdout",
     "output_type": "stream",
     "text": [
      "Selection efficiency 1.0000 purity 0.0115\n"
     ]
    }
   ],
   "source": [
    "segments = select_segments(segments, phi_slope_min=phi_slope_min,\n",
    "                           phi_slope_max=phi_slope_max, z0_max=z0_max)\n",
    "\n",
    "print('Selection efficiency %.4f purity %.4f' % (segment_efficiency(segments), segment_purity(segments)))"
   ]
  },
  {
   "cell_type": "code",
   "execution_count": 32,
   "metadata": {},
   "outputs": [
    {
     "name": "stderr",
     "output_type": "stream",
     "text": [
      "No handles with labels found to put in legend.\n",
      "No handles with labels found to put in legend.\n"
     ]
    },
    {
     "name": "stdout",
     "output_type": "stream",
     "text": [
      "Av. selection efficiency 0.9976 purity 0.0135\n"
     ]
    },
    {
     "data": {
      "image/png": "[encoded data removed]",
      "text/plain": [
       "<Figure size 1008x432 with 2 Axes>"
      ]
     },
     "metadata": {
      "needs_background": "light"
     },
     "output_type": "display_data"
    }
   ],
   "source": [
    "eff = []\n",
    "pur = []\n",
    "\n",
    "for evtid in range(10):\n",
    "    \n",
    "    hits = pd.read_hdf(os.path.expandvars( input_dir + '/graph_id_{}.h5'.format(evtid+1) ), 'hits')\n",
    "    truth = pd.read_hdf(os.path.expandvars( input_dir + '/graph_id_{}.h5'.format(evtid+1) ), 'truth')\n",
    "    particles = pd.read_hdf(os.path.expandvars( input_dir + '/graph_id_{}.h5'.format(evtid+1) ), 'particles')\n",
    "    \n",
    "    \n",
    "    hits = (select_hits(hits, truth, particles, pt_min=pt_min)\n",
    "        .assign(evtid=0)\n",
    "        .reset_index(drop=True))\n",
    "    \n",
    "    layer_pairs = form_layer_pairs(n_det_layers, segment_type)\n",
    "    \n",
    "    segments = get_segments(hits, layer_pairs)\n",
    "    \n",
    "    segments = select_segments(segments, phi_slope_min=phi_slope_min,\n",
    "                           phi_slope_max=phi_slope_max, z0_max=z0_max)\n",
    "    \n",
    "    true_segs = segments[segments.y]\n",
    "    \n",
    "    eff.append(segment_efficiency(segments))\n",
    "    pur.append(segment_purity(segments))\n",
    "\n",
    "print('Av. selection efficiency %.4f purity %.4f' % (np.mean(eff), (np.mean(pur))))\n",
    "\n",
    "\n",
    "    \n",
    "plt.figure(figsize=(14,6))\n",
    "\n",
    "plt.subplot(121)\n",
    "binning=dict(bins=50, range=(0.0, 1.0))\n",
    "plt.hist(eff, **binning)\n",
    "plt.xlabel('efficiency')\n",
    "plt.legend(loc=0)\n",
    "\n",
    "plt.subplot(122)\n",
    "binning=dict(bins=50, range=(0, 1.0))\n",
    "plt.hist(pur, **binning)\n",
    "plt.xlabel('purity')\n",
    "plt.legend(loc=0)\n",
    "\n",
    "plt.tight_layout()    \n",
    "\n"
   ]
  },
  {
   "cell_type": "raw",
   "metadata": {},
   "source": [
    "# What is the selection efficiency for high pt particle segments?\n",
    "true_segments = segments[segments.y]\n",
    "true_seg_pt = hits.loc[true_segments.index_1].pt.values\n",
    "true_segments = true_segments.assign(pt=true_seg_pt)\n",
    "\n",
    "print('Selection efficiency for high pt particles:')\n",
    "print('  %.4f for pt < 50 MeV' % segment_efficiency(true_segments[true_segments.pt < 0.05]))\n",
    "print('  %.4f for pt > 50 MeV' % segment_efficiency(true_segments[true_segments.pt > 0.05]))\n",
    "print('  %.4f for pt > 200 MeV' % segment_efficiency(true_segments[true_segments.pt > 0.2]))"
   ]
  },
  {
   "cell_type": "markdown",
   "metadata": {},
   "source": [
    "## Sample reweighting\n",
    "\n",
    "To deal with class imbalance, we'll want to reweight the segments in the training loss functions so that real and fake segments have nearly equal proportion."
   ]
  },
  {
   "cell_type": "code",
   "execution_count": 18,
   "metadata": {},
   "outputs": [
    {
     "name": "stdout",
     "output_type": "stream",
     "text": [
      "Number of particles:  17\n",
      "Number of hits:  96\n",
      "Number of segements:  3494\n",
      "Number of selected segements:  1676\n"
     ]
    },
    {
     "data": {
      "text/plain": [
       "array([0.625, 2.5  ])"
      ]
     },
     "execution_count": 18,
     "metadata": {},
     "output_type": "execute_result"
    }
   ],
   "source": [
    "print('Number of particles: ', particles.shape[0])\n",
    "print('Number of hits: ', hits.shape[0])\n",
    "print('Number of segements: ', segments.shape[0])\n",
    "print('Number of selected segements: ', segments.selected.sum())\n",
    "\n",
    "\n",
    "\n",
    "\n",
    "# Approximating the sample fractions [fake, real] found above\n",
    "sample_fracs = np.array([.8, .2])\n",
    "\n",
    "# Reweight each to 0.5\n",
    "sample_weights = 0.5 / sample_fracs\n",
    "\n",
    "sample_weights"
   ]
  }
 ],
 "metadata": {
  "kernelspec": {
   "display_name": "Python 3 (Belle2)",
   "language": "python",
   "name": "python3"
  },
  "language_info": {
   "codemirror_mode": {
    "name": "ipython",
    "version": 3
   },
   "file_extension": ".py",
   "mimetype": "text/x-python",
   "name": "python",
   "nbconvert_exporter": "python",
   "pygments_lexer": "ipython3",
   "version": "3.8.8"
  }
 },
 "nbformat": 4,
 "nbformat_minor": 2
}
