{
 "cells": [
  {
   "cell_type": "markdown",
   "metadata": {},
   "source": [
    "# Hit graph construction\n",
    "\n",
    "This is a notebook for developing and analyzing the procedure for constructing hit graphs."
   ]
  },
  {
   "cell_type": "code",
   "execution_count": 1,
   "metadata": {},
   "outputs": [
    {
     "name": "stderr",
     "output_type": "stream",
     "text": [
      "In /home/benjamin/b2/externals/v01-10-00/Linux_x86_64/common/lib/python3.8/site-packages/matplotlib/mpl-data/stylelib/belle2.mplstyle: \n",
      "The mathtext.fallback_to_cm rcparam was deprecated in Matplotlib 3.3 and will be removed two minor releases later.\n",
      "In /home/benjamin/b2/externals/v01-10-00/Linux_x86_64/common/lib/python3.8/site-packages/matplotlib/mpl-data/stylelib/belle2.mplstyle: Support for setting the 'mathtext.fallback_to_cm' rcParam is deprecated since 3.3 and will be removed two minor releases later; use 'mathtext.fallback : 'cm' instead.\n",
      "In /home/benjamin/b2/externals/v01-10-00/Linux_x86_64/common/lib/python3.8/site-packages/matplotlib/mpl-data/stylelib/belle2.mplstyle: \n",
      "The validate_bool_maybe_none function was deprecated in Matplotlib 3.3 and will be removed two minor releases later.\n",
      "In /home/benjamin/b2/externals/v01-10-00/Linux_x86_64/common/lib/python3.8/site-packages/matplotlib/mpl-data/stylelib/belle2_serif.mplstyle: \n",
      "The mathtext.fallback_to_cm rcparam was deprecated in Matplotlib 3.3 and will be removed two minor releases later.\n",
      "In /home/benjamin/b2/externals/v01-10-00/Linux_x86_64/common/lib/python3.8/site-packages/matplotlib/mpl-data/stylelib/belle2_serif.mplstyle: Support for setting the 'mathtext.fallback_to_cm' rcParam is deprecated since 3.3 and will be removed two minor releases later; use 'mathtext.fallback : 'cm' instead.\n",
      "In /home/benjamin/b2/externals/v01-10-00/Linux_x86_64/common/lib/python3.8/site-packages/matplotlib/mpl-data/stylelib/belle2_serif.mplstyle: \n",
      "The validate_bool_maybe_none function was deprecated in Matplotlib 3.3 and will be removed two minor releases later.\n"
     ]
    }
   ],
   "source": [
    "import os\n",
    "import sys\n",
    "import numpy as np\n",
    "import pandas as pd\n",
    "import matplotlib.pyplot as plt\n",
    "\n",
    "from xtracker.graph_creation import (\n",
    "    calc_dphi, calc_eta, select_segments, construct_graph, select_hits, split_detector_sections, form_layer_pairs, \n",
    "    construct_segments\n",
    ")\n"
   ]
  },
  {
   "cell_type": "markdown",
   "metadata": {},
   "source": [
    "## Read the event data"
   ]
  },
  {
   "cell_type": "code",
   "execution_count": 2,
   "metadata": {},
   "outputs": [],
   "source": [
    "input_dir = \"/home/benjamin/xtracker/examples/data/events_belle2_vtxonly\""
   ]
  },
  {
   "cell_type": "code",
   "execution_count": 3,
   "metadata": {},
   "outputs": [],
   "source": [
    "evtid = 0\n",
    "\n",
    "hits = pd.read_hdf(os.path.expandvars( input_dir + '/graph_id_{}.h5'.format(evtid+1) ), 'hits')\n",
    "truth = pd.read_hdf(os.path.expandvars( input_dir + '/graph_id_{}.h5'.format(evtid+1) ), 'truth')\n",
    "particles = pd.read_hdf(os.path.expandvars( input_dir + '/graph_id_{}.h5'.format(evtid+1) ), 'particles')"
   ]
  },
  {
   "cell_type": "code",
   "execution_count": 4,
   "metadata": {},
   "outputs": [
    {
     "data": {
      "text/html": [
       "<div>\n",
       "<style scoped>\n",
       "    .dataframe tbody tr th:only-of-type {\n",
       "        vertical-align: middle;\n",
       "    }\n",
       "\n",
       "    .dataframe tbody tr th {\n",
       "        vertical-align: top;\n",
       "    }\n",
       "\n",
       "    .dataframe thead th {\n",
       "        text-align: right;\n",
       "    }\n",
       "</style>\n",
       "<table border=\"1\" class=\"dataframe\">\n",
       "  <thead>\n",
       "    <tr style=\"text-align: right;\">\n",
       "      <th></th>\n",
       "      <th>particle_id</th>\n",
       "      <th>layer</th>\n",
       "      <th>x</th>\n",
       "      <th>y</th>\n",
       "      <th>z</th>\n",
       "      <th>t</th>\n",
       "      <th>hit_id</th>\n",
       "    </tr>\n",
       "  </thead>\n",
       "  <tbody>\n",
       "    <tr>\n",
       "      <th>115</th>\n",
       "      <td>21</td>\n",
       "      <td>0</td>\n",
       "      <td>-0.113578</td>\n",
       "      <td>-1.583915</td>\n",
       "      <td>-0.487674</td>\n",
       "      <td>0.0</td>\n",
       "      <td>115</td>\n",
       "    </tr>\n",
       "    <tr>\n",
       "      <th>116</th>\n",
       "      <td>21</td>\n",
       "      <td>1</td>\n",
       "      <td>-0.141257</td>\n",
       "      <td>-2.297286</td>\n",
       "      <td>-0.831659</td>\n",
       "      <td>0.0</td>\n",
       "      <td>116</td>\n",
       "    </tr>\n",
       "    <tr>\n",
       "      <th>117</th>\n",
       "      <td>21</td>\n",
       "      <td>2</td>\n",
       "      <td>-0.222671</td>\n",
       "      <td>-3.923500</td>\n",
       "      <td>-1.614698</td>\n",
       "      <td>0.0</td>\n",
       "      <td>117</td>\n",
       "    </tr>\n",
       "    <tr>\n",
       "      <th>118</th>\n",
       "      <td>21</td>\n",
       "      <td>3</td>\n",
       "      <td>-0.641716</td>\n",
       "      <td>-8.988625</td>\n",
       "      <td>-4.051665</td>\n",
       "      <td>0.0</td>\n",
       "      <td>118</td>\n",
       "    </tr>\n",
       "    <tr>\n",
       "      <th>119</th>\n",
       "      <td>21</td>\n",
       "      <td>4</td>\n",
       "      <td>-1.269231</td>\n",
       "      <td>-13.962142</td>\n",
       "      <td>-6.459112</td>\n",
       "      <td>0.0</td>\n",
       "      <td>119</td>\n",
       "    </tr>\n",
       "  </tbody>\n",
       "</table>\n",
       "</div>"
      ],
      "text/plain": [
       "     particle_id  layer         x          y         z    t  hit_id\n",
       "115           21      0 -0.113578  -1.583915 -0.487674  0.0     115\n",
       "116           21      1 -0.141257  -2.297286 -0.831659  0.0     116\n",
       "117           21      2 -0.222671  -3.923500 -1.614698  0.0     117\n",
       "118           21      3 -0.641716  -8.988625 -4.051665  0.0     118\n",
       "119           21      4 -1.269231 -13.962142 -6.459112  0.0     119"
      ]
     },
     "execution_count": 4,
     "metadata": {},
     "output_type": "execute_result"
    }
   ],
   "source": [
    "hits.tail()"
   ]
  },
  {
   "cell_type": "code",
   "execution_count": 5,
   "metadata": {},
   "outputs": [
    {
     "data": {
      "text/html": [
       "<div>\n",
       "<style scoped>\n",
       "    .dataframe tbody tr th:only-of-type {\n",
       "        vertical-align: middle;\n",
       "    }\n",
       "\n",
       "    .dataframe tbody tr th {\n",
       "        vertical-align: top;\n",
       "    }\n",
       "\n",
       "    .dataframe thead th {\n",
       "        text-align: right;\n",
       "    }\n",
       "</style>\n",
       "<table border=\"1\" class=\"dataframe\">\n",
       "  <thead>\n",
       "    <tr style=\"text-align: right;\">\n",
       "      <th></th>\n",
       "      <th>vx</th>\n",
       "      <th>vy</th>\n",
       "      <th>vz</th>\n",
       "      <th>px</th>\n",
       "      <th>py</th>\n",
       "      <th>pz</th>\n",
       "      <th>q</th>\n",
       "      <th>nhits</th>\n",
       "      <th>particle_id</th>\n",
       "    </tr>\n",
       "  </thead>\n",
       "  <tbody>\n",
       "    <tr>\n",
       "      <th>18</th>\n",
       "      <td>0.028191</td>\n",
       "      <td>-0.093715</td>\n",
       "      <td>0.353338</td>\n",
       "      <td>-0.133458</td>\n",
       "      <td>0.052865</td>\n",
       "      <td>0.268421</td>\n",
       "      <td>-1.0</td>\n",
       "      <td>5</td>\n",
       "      <td>18</td>\n",
       "    </tr>\n",
       "    <tr>\n",
       "      <th>19</th>\n",
       "      <td>-0.016549</td>\n",
       "      <td>-0.098441</td>\n",
       "      <td>0.297210</td>\n",
       "      <td>0.081354</td>\n",
       "      <td>0.088550</td>\n",
       "      <td>0.033017</td>\n",
       "      <td>1.0</td>\n",
       "      <td>6</td>\n",
       "      <td>19</td>\n",
       "    </tr>\n",
       "    <tr>\n",
       "      <th>20</th>\n",
       "      <td>-0.016549</td>\n",
       "      <td>-0.098441</td>\n",
       "      <td>0.297210</td>\n",
       "      <td>0.047815</td>\n",
       "      <td>0.015226</td>\n",
       "      <td>-0.081506</td>\n",
       "      <td>-1.0</td>\n",
       "      <td>5</td>\n",
       "      <td>20</td>\n",
       "    </tr>\n",
       "    <tr>\n",
       "      <th>21</th>\n",
       "      <td>-0.081163</td>\n",
       "      <td>-0.327211</td>\n",
       "      <td>0.116058</td>\n",
       "      <td>-0.008259</td>\n",
       "      <td>-0.482459</td>\n",
       "      <td>-0.231704</td>\n",
       "      <td>1.0</td>\n",
       "      <td>5</td>\n",
       "      <td>21</td>\n",
       "    </tr>\n",
       "    <tr>\n",
       "      <th>22</th>\n",
       "      <td>0.000000</td>\n",
       "      <td>0.000000</td>\n",
       "      <td>0.000000</td>\n",
       "      <td>0.000000</td>\n",
       "      <td>0.000000</td>\n",
       "      <td>0.000000</td>\n",
       "      <td>0.0</td>\n",
       "      <td>0</td>\n",
       "      <td>-1</td>\n",
       "    </tr>\n",
       "  </tbody>\n",
       "</table>\n",
       "</div>"
      ],
      "text/plain": [
       "          vx        vy        vz        px        py        pz    q  nhits  \\\n",
       "18  0.028191 -0.093715  0.353338 -0.133458  0.052865  0.268421 -1.0      5   \n",
       "19 -0.016549 -0.098441  0.297210  0.081354  0.088550  0.033017  1.0      6   \n",
       "20 -0.016549 -0.098441  0.297210  0.047815  0.015226 -0.081506 -1.0      5   \n",
       "21 -0.081163 -0.327211  0.116058 -0.008259 -0.482459 -0.231704  1.0      5   \n",
       "22  0.000000  0.000000  0.000000  0.000000  0.000000  0.000000  0.0      0   \n",
       "\n",
       "    particle_id  \n",
       "18           18  \n",
       "19           19  \n",
       "20           20  \n",
       "21           21  \n",
       "22           -1  "
      ]
     },
     "execution_count": 5,
     "metadata": {},
     "output_type": "execute_result"
    }
   ],
   "source": [
    "particles.tail()"
   ]
  },
  {
   "cell_type": "code",
   "execution_count": 6,
   "metadata": {},
   "outputs": [
    {
     "data": {
      "text/html": [
       "<div>\n",
       "<style scoped>\n",
       "    .dataframe tbody tr th:only-of-type {\n",
       "        vertical-align: middle;\n",
       "    }\n",
       "\n",
       "    .dataframe tbody tr th {\n",
       "        vertical-align: top;\n",
       "    }\n",
       "\n",
       "    .dataframe thead th {\n",
       "        text-align: right;\n",
       "    }\n",
       "</style>\n",
       "<table border=\"1\" class=\"dataframe\">\n",
       "  <thead>\n",
       "    <tr style=\"text-align: right;\">\n",
       "      <th></th>\n",
       "      <th>hit_id</th>\n",
       "      <th>particle_id</th>\n",
       "      <th>weight</th>\n",
       "    </tr>\n",
       "  </thead>\n",
       "  <tbody>\n",
       "    <tr>\n",
       "      <th>115</th>\n",
       "      <td>115</td>\n",
       "      <td>21</td>\n",
       "      <td>0</td>\n",
       "    </tr>\n",
       "    <tr>\n",
       "      <th>116</th>\n",
       "      <td>116</td>\n",
       "      <td>21</td>\n",
       "      <td>0</td>\n",
       "    </tr>\n",
       "    <tr>\n",
       "      <th>117</th>\n",
       "      <td>117</td>\n",
       "      <td>21</td>\n",
       "      <td>0</td>\n",
       "    </tr>\n",
       "    <tr>\n",
       "      <th>118</th>\n",
       "      <td>118</td>\n",
       "      <td>21</td>\n",
       "      <td>0</td>\n",
       "    </tr>\n",
       "    <tr>\n",
       "      <th>119</th>\n",
       "      <td>119</td>\n",
       "      <td>21</td>\n",
       "      <td>0</td>\n",
       "    </tr>\n",
       "  </tbody>\n",
       "</table>\n",
       "</div>"
      ],
      "text/plain": [
       "     hit_id  particle_id  weight\n",
       "115     115           21       0\n",
       "116     116           21       0\n",
       "117     117           21       0\n",
       "118     118           21       0\n",
       "119     119           21       0"
      ]
     },
     "execution_count": 6,
     "metadata": {},
     "output_type": "execute_result"
    }
   ],
   "source": [
    "truth.tail()"
   ]
  },
  {
   "cell_type": "markdown",
   "metadata": {},
   "source": [
    "## Hit selection"
   ]
  },
  {
   "cell_type": "code",
   "execution_count": 7,
   "metadata": {},
   "outputs": [],
   "source": [
    "pt_min = 0. # GeV"
   ]
  },
  {
   "cell_type": "code",
   "execution_count": 8,
   "metadata": {},
   "outputs": [],
   "source": [
    "hits = (select_hits(hits, truth, particles, pt_min=pt_min)\n",
    "        .assign(evtid=0)\n",
    "        .reset_index(drop=True))"
   ]
  },
  {
   "cell_type": "markdown",
   "metadata": {},
   "source": [
    "## Geometry ID pairs\n",
    "\n",
    "We use geometry IDs to select initial set of hit pair segments.\n",
    "For now we're starting with barrel hits only and can use the layer number as the ID.\n",
    "We'll then use consecutive layer numbers as the criteria."
   ]
  },
  {
   "cell_type": "code",
   "execution_count": 9,
   "metadata": {},
   "outputs": [],
   "source": [
    "n_det_layers = 5\n",
    "segment_type = 'all'\n",
    "\n",
    "\n",
    "layer_pairs = form_layer_pairs(n_det_layers, segment_type)"
   ]
  },
  {
   "cell_type": "markdown",
   "metadata": {},
   "source": [
    "## Segment construction\n",
    "\n",
    "Now for every layer pair we construct hit-pair segments."
   ]
  },
  {
   "cell_type": "code",
   "execution_count": 10,
   "metadata": {},
   "outputs": [],
   "source": [
    "def get_segments(hits, layer_pairs):\n",
    "\n",
    "    # Group hits by geometry ID\n",
    "    layer_groups = hits.groupby('layer')\n",
    "\n",
    "    segments = []\n",
    "    \n",
    "    for (layer1, layer2) in layer_pairs:\n",
    "        # Find and join all hit pairs\n",
    "        try:\n",
    "            hits1 = layer_groups.get_group(layer1)\n",
    "            hits2 = layer_groups.get_group(layer2)\n",
    "        # If an event has no hits on a layer, we get a KeyError.\n",
    "        # In that case we just skip to the next layer pair\n",
    "        except KeyError as e:\n",
    "            continue\n",
    "        # Construct the segments\n",
    "        \n",
    "        # Start with all possible pairs of hits\n",
    "        keys = ['evtid', 'r', 'phi', 'z', 'particle_id', 'hit_id', 'layer']\n",
    "        hit_pairs = hits1[keys].reset_index().merge(\n",
    "            hits2[keys].reset_index(), on='evtid', suffixes=('_1', '_2'))\n",
    "        \n",
    "        # Compute line through the points\n",
    "        dphi = calc_dphi(hit_pairs.phi_1, hit_pairs.phi_2)\n",
    "        dz = hit_pairs.z_2 - hit_pairs.z_1\n",
    "        dr = hit_pairs.r_2 - hit_pairs.r_1\n",
    "        phi_slope = dphi / dr\n",
    "        z0 = hit_pairs.z_1 - hit_pairs.r_1 * dz / dr\n",
    "        \n",
    "        # We do not have good filter for same layer or ingoing edges\n",
    "        z0[ hit_pairs.layer_1 >= hit_pairs.layer_2 ] = 0.0 \n",
    "        phi_slope[ hit_pairs.layer_1 == hit_pairs.layer_2 ] = 0.0 \n",
    "        \n",
    "        # Identify the true pairs\n",
    "        y = (hit_pairs.particle_id_1 == hit_pairs.particle_id_2) & (hit_pairs.hit_id_1+1 == hit_pairs.hit_id_2)\n",
    "            \n",
    "        # Put the results in a new dataframe\n",
    "        segments.append(hit_pairs[['evtid', 'index_1', 'index_2', 'layer_1', 'layer_2']]\n",
    "                        .assign(dphi=dphi, dz=dz, dr=dr, y=y, phi_slope=phi_slope, z0=z0))\n",
    "        \n",
    "    return pd.concat(segments, ignore_index=True)"
   ]
  },
  {
   "cell_type": "code",
   "execution_count": 11,
   "metadata": {},
   "outputs": [],
   "source": [
    "segments = get_segments(hits, layer_pairs)"
   ]
  },
  {
   "cell_type": "code",
   "execution_count": 12,
   "metadata": {},
   "outputs": [
    {
     "data": {
      "text/html": [
       "<div>\n",
       "<style scoped>\n",
       "    .dataframe tbody tr th:only-of-type {\n",
       "        vertical-align: middle;\n",
       "    }\n",
       "\n",
       "    .dataframe tbody tr th {\n",
       "        vertical-align: top;\n",
       "    }\n",
       "\n",
       "    .dataframe thead th {\n",
       "        text-align: right;\n",
       "    }\n",
       "</style>\n",
       "<table border=\"1\" class=\"dataframe\">\n",
       "  <thead>\n",
       "    <tr style=\"text-align: right;\">\n",
       "      <th></th>\n",
       "      <th>evtid</th>\n",
       "      <th>index_1</th>\n",
       "      <th>index_2</th>\n",
       "      <th>layer_1</th>\n",
       "      <th>layer_2</th>\n",
       "      <th>dphi</th>\n",
       "      <th>dz</th>\n",
       "      <th>dr</th>\n",
       "      <th>phi_slope</th>\n",
       "      <th>z0</th>\n",
       "    </tr>\n",
       "  </thead>\n",
       "  <tbody>\n",
       "    <tr>\n",
       "      <th>count</th>\n",
       "      <td>7538.0</td>\n",
       "      <td>7538.000000</td>\n",
       "      <td>7538.000000</td>\n",
       "      <td>7538.000000</td>\n",
       "      <td>7538.000000</td>\n",
       "      <td>7.538000e+03</td>\n",
       "      <td>7.538000e+03</td>\n",
       "      <td>7.538000e+03</td>\n",
       "      <td>7538.000000</td>\n",
       "      <td>7538.000000</td>\n",
       "    </tr>\n",
       "    <tr>\n",
       "      <th>mean</th>\n",
       "      <td>0.0</td>\n",
       "      <td>59.375431</td>\n",
       "      <td>59.375431</td>\n",
       "      <td>1.927434</td>\n",
       "      <td>1.927434</td>\n",
       "      <td>3.770458e-18</td>\n",
       "      <td>-6.032732e-17</td>\n",
       "      <td>1.206546e-16</td>\n",
       "      <td>-0.007161</td>\n",
       "      <td>-0.038275</td>\n",
       "    </tr>\n",
       "    <tr>\n",
       "      <th>std</th>\n",
       "      <td>0.0</td>\n",
       "      <td>34.551420</td>\n",
       "      <td>34.551420</td>\n",
       "      <td>1.302945</td>\n",
       "      <td>1.302945</td>\n",
       "      <td>1.804663e+00</td>\n",
       "      <td>1.001501e+01</td>\n",
       "      <td>2.771102e+00</td>\n",
       "      <td>1.074574</td>\n",
       "      <td>10.047273</td>\n",
       "    </tr>\n",
       "    <tr>\n",
       "      <th>min</th>\n",
       "      <td>0.0</td>\n",
       "      <td>0.000000</td>\n",
       "      <td>0.000000</td>\n",
       "      <td>0.000000</td>\n",
       "      <td>0.000000</td>\n",
       "      <td>-3.140820e+00</td>\n",
       "      <td>-5.878630e+01</td>\n",
       "      <td>-5.343870e+00</td>\n",
       "      <td>-7.819872</td>\n",
       "      <td>-106.929186</td>\n",
       "    </tr>\n",
       "    <tr>\n",
       "      <th>25%</th>\n",
       "      <td>0.0</td>\n",
       "      <td>30.000000</td>\n",
       "      <td>30.000000</td>\n",
       "      <td>1.000000</td>\n",
       "      <td>1.000000</td>\n",
       "      <td>-1.614554e+00</td>\n",
       "      <td>-3.361225e+00</td>\n",
       "      <td>-8.566759e-01</td>\n",
       "      <td>-0.172220</td>\n",
       "      <td>0.000000</td>\n",
       "    </tr>\n",
       "    <tr>\n",
       "      <th>50%</th>\n",
       "      <td>0.0</td>\n",
       "      <td>59.000000</td>\n",
       "      <td>59.000000</td>\n",
       "      <td>2.000000</td>\n",
       "      <td>2.000000</td>\n",
       "      <td>0.000000e+00</td>\n",
       "      <td>0.000000e+00</td>\n",
       "      <td>0.000000e+00</td>\n",
       "      <td>0.000000</td>\n",
       "      <td>0.000000</td>\n",
       "    </tr>\n",
       "    <tr>\n",
       "      <th>75%</th>\n",
       "      <td>0.0</td>\n",
       "      <td>89.000000</td>\n",
       "      <td>89.000000</td>\n",
       "      <td>3.000000</td>\n",
       "      <td>3.000000</td>\n",
       "      <td>1.614554e+00</td>\n",
       "      <td>3.361225e+00</td>\n",
       "      <td>8.566759e-01</td>\n",
       "      <td>0.173222</td>\n",
       "      <td>0.000000</td>\n",
       "    </tr>\n",
       "    <tr>\n",
       "      <th>max</th>\n",
       "      <td>0.0</td>\n",
       "      <td>119.000000</td>\n",
       "      <td>119.000000</td>\n",
       "      <td>4.000000</td>\n",
       "      <td>4.000000</td>\n",
       "      <td>3.140820e+00</td>\n",
       "      <td>5.878630e+01</td>\n",
       "      <td>5.343870e+00</td>\n",
       "      <td>6.727110</td>\n",
       "      <td>93.056070</td>\n",
       "    </tr>\n",
       "  </tbody>\n",
       "</table>\n",
       "</div>"
      ],
      "text/plain": [
       "        evtid      index_1      index_2      layer_1      layer_2  \\\n",
       "count  7538.0  7538.000000  7538.000000  7538.000000  7538.000000   \n",
       "mean      0.0    59.375431    59.375431     1.927434     1.927434   \n",
       "std       0.0    34.551420    34.551420     1.302945     1.302945   \n",
       "min       0.0     0.000000     0.000000     0.000000     0.000000   \n",
       "25%       0.0    30.000000    30.000000     1.000000     1.000000   \n",
       "50%       0.0    59.000000    59.000000     2.000000     2.000000   \n",
       "75%       0.0    89.000000    89.000000     3.000000     3.000000   \n",
       "max       0.0   119.000000   119.000000     4.000000     4.000000   \n",
       "\n",
       "               dphi            dz            dr    phi_slope           z0  \n",
       "count  7.538000e+03  7.538000e+03  7.538000e+03  7538.000000  7538.000000  \n",
       "mean   3.770458e-18 -6.032732e-17  1.206546e-16    -0.007161    -0.038275  \n",
       "std    1.804663e+00  1.001501e+01  2.771102e+00     1.074574    10.047273  \n",
       "min   -3.140820e+00 -5.878630e+01 -5.343870e+00    -7.819872  -106.929186  \n",
       "25%   -1.614554e+00 -3.361225e+00 -8.566759e-01    -0.172220     0.000000  \n",
       "50%    0.000000e+00  0.000000e+00  0.000000e+00     0.000000     0.000000  \n",
       "75%    1.614554e+00  3.361225e+00  8.566759e-01     0.173222     0.000000  \n",
       "max    3.140820e+00  5.878630e+01  5.343870e+00     6.727110    93.056070  "
      ]
     },
     "execution_count": 12,
     "metadata": {},
     "output_type": "execute_result"
    }
   ],
   "source": [
    "segments.describe()"
   ]
  },
  {
   "cell_type": "markdown",
   "metadata": {},
   "source": [
    "## Plot the full segment distributions"
   ]
  },
  {
   "cell_type": "code",
   "execution_count": 13,
   "metadata": {},
   "outputs": [
    {
     "data": {
      "image/png": "[encoded data removed]",
      "text/plain": [
       "<Figure size 1008x432 with 2 Axes>"
      ]
     },
     "metadata": {
      "needs_background": "light"
     },
     "output_type": "display_data"
    }
   ],
   "source": [
    "plt.figure(figsize=(14,6))\n",
    "\n",
    "true_segs = segments[segments.y]\n",
    "fake_segs = segments[segments.y == False]\n",
    "\n",
    "plt.subplot(121)\n",
    "binning=dict(bins=150, range=(-2.2, 2.2))\n",
    "plt.hist(fake_segs.phi_slope, label='fake', log=True, **binning)\n",
    "plt.hist(true_segs.phi_slope, label='true', **binning)\n",
    "plt.xlabel('$\\Delta \\phi / \\Delta r$ [rad/mm]')\n",
    "plt.legend(loc=0)\n",
    "\n",
    "plt.subplot(122)\n",
    "binning=dict(bins=50, range=(-50, 50))\n",
    "plt.hist(fake_segs.z0, label='fake', log=True, **binning)\n",
    "plt.hist(true_segs.z0, label='true', **binning)\n",
    "plt.xlabel('$z_0$ [mm]')\n",
    "plt.legend(loc=0)\n",
    "\n",
    "plt.tight_layout()"
   ]
  },
  {
   "cell_type": "markdown",
   "metadata": {},
   "source": [
    "## Segment selection"
   ]
  },
  {
   "cell_type": "code",
   "execution_count": 14,
   "metadata": {},
   "outputs": [],
   "source": [
    "def select_segments(segments, phi_slope_min, phi_slope_max, z0_max):\n",
    "    sel_mask = ((segments.phi_slope > phi_slope_min) &\n",
    "                (segments.phi_slope < phi_slope_max) &\n",
    "                (segments.z0 < z0_max) &  (segments.z0 > -z0_max) )\n",
    "    return segments.assign(selected=sel_mask)\n",
    "\n",
    "def segment_efficiency(segments):\n",
    "    return (segments.y & segments.selected).sum() / segments.y.sum()\n",
    "\n",
    "def segment_purity(segment):\n",
    "    return (segments.y & segments.selected).sum() / segments.selected.sum()"
   ]
  },
  {
   "cell_type": "code",
   "execution_count": 15,
   "metadata": {},
   "outputs": [],
   "source": [
    "# Choose some cuts\n",
    "phi_slope_min = -2.25\n",
    "phi_slope_max =  2.25\n",
    "z0_max =  100"
   ]
  },
  {
   "cell_type": "code",
   "execution_count": 16,
   "metadata": {},
   "outputs": [
    {
     "name": "stdout",
     "output_type": "stream",
     "text": [
      "Selection efficiency 1.0000 purity 0.0140\n"
     ]
    }
   ],
   "source": [
    "segments = select_segments(segments, phi_slope_min=phi_slope_min,\n",
    "                           phi_slope_max=phi_slope_max, z0_max=z0_max)\n",
    "\n",
    "print('Selection efficiency %.4f purity %.4f' % (segment_efficiency(segments), segment_purity(segments)))"
   ]
  },
  {
   "cell_type": "code",
   "execution_count": 17,
   "metadata": {},
   "outputs": [
    {
     "name": "stderr",
     "output_type": "stream",
     "text": [
      "No handles with labels found to put in legend.\n",
      "No handles with labels found to put in legend.\n"
     ]
    },
    {
     "name": "stdout",
     "output_type": "stream",
     "text": [
      "Av. selection efficiency 1.0000 purity 0.0128\n"
     ]
    },
    {
     "data": {
      "image/png": "[encoded data removed]",
      "text/plain": [
       "<Figure size 1008x432 with 2 Axes>"
      ]
     },
     "metadata": {
      "needs_background": "light"
     },
     "output_type": "display_data"
    }
   ],
   "source": [
    "eff = []\n",
    "pur = []\n",
    "\n",
    "for evtid in range(10):\n",
    "    \n",
    "    hits = pd.read_hdf(os.path.expandvars( input_dir + '/graph_id_{}.h5'.format(evtid+1) ), 'hits')\n",
    "    truth = pd.read_hdf(os.path.expandvars( input_dir + '/graph_id_{}.h5'.format(evtid+1) ), 'truth')\n",
    "    particles = pd.read_hdf(os.path.expandvars( input_dir + '/graph_id_{}.h5'.format(evtid+1) ), 'particles')\n",
    "    \n",
    "    \n",
    "    hits = (select_hits(hits, truth, particles, pt_min=pt_min)\n",
    "        .assign(evtid=0)\n",
    "        .reset_index(drop=True))\n",
    "    \n",
    "    layer_pairs = form_layer_pairs(n_det_layers, segment_type)\n",
    "    \n",
    "    segments = get_segments(hits, layer_pairs)\n",
    "    \n",
    "    segments = select_segments(segments, phi_slope_min=phi_slope_min,\n",
    "                           phi_slope_max=phi_slope_max, z0_max=z0_max)\n",
    "    \n",
    "    true_segs = segments[segments.y]\n",
    "    \n",
    "    eff.append(segment_efficiency(segments))\n",
    "    pur.append(segment_purity(segments))\n",
    "\n",
    "print('Av. selection efficiency %.4f purity %.4f' % (np.mean(eff), (np.mean(pur))))\n",
    "\n",
    "\n",
    "    \n",
    "plt.figure(figsize=(14,6))\n",
    "\n",
    "plt.subplot(121)\n",
    "binning=dict(bins=50, range=(0.0, 1.0))\n",
    "plt.hist(eff, **binning)\n",
    "plt.xlabel('efficiency')\n",
    "plt.legend(loc=0)\n",
    "\n",
    "plt.subplot(122)\n",
    "binning=dict(bins=50, range=(0, 1.0))\n",
    "plt.hist(pur, **binning)\n",
    "plt.xlabel('purity')\n",
    "plt.legend(loc=0)\n",
    "\n",
    "plt.tight_layout()    \n",
    "\n"
   ]
  },
  {
   "cell_type": "raw",
   "metadata": {},
   "source": [
    "# What is the selection efficiency for high pt particle segments?\n",
    "true_segments = segments[segments.y]\n",
    "true_seg_pt = hits.loc[true_segments.index_1].pt.values\n",
    "true_segments = true_segments.assign(pt=true_seg_pt)\n",
    "\n",
    "print('Selection efficiency for high pt particles:')\n",
    "print('  %.4f for pt < 50 MeV' % segment_efficiency(true_segments[true_segments.pt < 0.05]))\n",
    "print('  %.4f for pt > 50 MeV' % segment_efficiency(true_segments[true_segments.pt > 0.05]))\n",
    "print('  %.4f for pt > 200 MeV' % segment_efficiency(true_segments[true_segments.pt > 0.2]))"
   ]
  },
  {
   "cell_type": "markdown",
   "metadata": {},
   "source": [
    "## Sample reweighting\n",
    "\n",
    "To deal with class imbalance, we'll want to reweight the segments in the training loss functions so that real and fake segments have nearly equal proportion."
   ]
  },
  {
   "cell_type": "code",
   "execution_count": 18,
   "metadata": {},
   "outputs": [
    {
     "name": "stdout",
     "output_type": "stream",
     "text": [
      "Number of particles:  24\n",
      "Number of hits:  135\n",
      "Number of segements:  9309\n",
      "Number of selected segements:  8652\n"
     ]
    },
    {
     "data": {
      "text/plain": [
       "array([0.625, 2.5  ])"
      ]
     },
     "execution_count": 18,
     "metadata": {},
     "output_type": "execute_result"
    }
   ],
   "source": [
    "print('Number of particles: ', particles.shape[0])\n",
    "print('Number of hits: ', hits.shape[0])\n",
    "print('Number of segements: ', segments.shape[0])\n",
    "print('Number of selected segements: ', segments.selected.sum())\n",
    "\n",
    "\n",
    "\n",
    "\n",
    "# Approximating the sample fractions [fake, real] found above\n",
    "sample_fracs = np.array([.8, .2])\n",
    "\n",
    "# Reweight each to 0.5\n",
    "sample_weights = 0.5 / sample_fracs\n",
    "\n",
    "sample_weights"
   ]
  },
  {
   "cell_type": "code",
   "execution_count": null,
   "metadata": {},
   "outputs": [],
   "source": []
  }
 ],
 "metadata": {
  "kernelspec": {
   "display_name": "Python 3 (Belle2)",
   "language": "python",
   "name": "python3"
  },
  "language_info": {
   "codemirror_mode": {
    "name": "ipython",
    "version": 3
   },
   "file_extension": ".py",
   "mimetype": "text/x-python",
   "name": "python",
   "nbconvert_exporter": "python",
   "pygments_lexer": "ipython3",
   "version": "3.8.8"
  }
 },
 "nbformat": 4,
 "nbformat_minor": 2
}
