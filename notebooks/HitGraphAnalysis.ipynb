{
 "cells": [
  {
   "cell_type": "markdown",
   "metadata": {},
   "source": [
    "# Analysis and visualization of hit-graph datasets\n",
    "\n",
    "The purpose of this notebook is to analyze the preprocessed hit-graph datasets."
   ]
  },
  {
   "cell_type": "code",
   "execution_count": null,
   "metadata": {},
   "outputs": [],
   "source": [
    "import os\n",
    "import numpy as np\n",
    "import matplotlib.pyplot as plt"
   ]
  },
  {
   "cell_type": "code",
   "execution_count": null,
   "metadata": {},
   "outputs": [],
   "source": [
    "%matplotlib inline"
   ]
  },
  {
   "cell_type": "code",
   "execution_count": null,
   "metadata": {},
   "outputs": [],
   "source": [
    "def get_sample_size(filename):\n",
    "    with np.load(filename) as f:\n",
    "        n_nodes = f['X'].shape[0]\n",
    "        n_edges = f['y'].shape[0]\n",
    "    return n_nodes, n_edges\n",
    "\n",
    "def process_dataset(dir, n_files=None):\n",
    "    files = [os.path.join(data_dir, f) for f in os.listdir(data_dir)]\n",
    "    print('%i total files' % len(files))\n",
    "    if n_files is not None:\n",
    "        files = files[:n_files]\n",
    "    shapes = np.array([get_sample_size(f) for f in files if not 'ID' in f])\n",
    "    n_nodes, n_edges = shapes[:,0], shapes[:,1]\n",
    "    return n_nodes, n_edges"
   ]
  },
  {
   "cell_type": "markdown",
   "metadata": {},
   "source": [
    "## Small dataset"
   ]
  },
  {
   "cell_type": "code",
   "execution_count": null,
   "metadata": {},
   "outputs": [],
   "source": [
    "data_dir = \"/home/benjamin/xtracker/examples/data/hitgraphs_belle2_vtx\"\n",
    "n_files = 1000"
   ]
  },
  {
   "cell_type": "code",
   "execution_count": null,
   "metadata": {},
   "outputs": [],
   "source": [
    "n_nodes, n_edges = process_dataset(data_dir, n_files)"
   ]
  },
  {
   "cell_type": "code",
   "execution_count": null,
   "metadata": {},
   "outputs": [],
   "source": [
    "plt.figure(figsize=(8,6))\n",
    "\n",
    "plt.hist2d(n_nodes, n_edges)\n",
    "plt.xlabel('Number of graph nodes')\n",
    "plt.ylabel('Number of graph edges')\n",
    "plt.colorbar();"
   ]
  },
  {
   "cell_type": "markdown",
   "metadata": {},
   "source": [
    "## Test"
   ]
  },
  {
   "cell_type": "code",
   "execution_count": null,
   "metadata": {},
   "outputs": [],
   "source": [
    "def get_sample_results(filename):\n",
    "    with np.load(filename) as f:\n",
    "        n_nodes = f['X'].shape[0]\n",
    "        n_edges = f['y'].shape[0]\n",
    "        purity = f['y'].mean()\n",
    "    return n_nodes, n_edges, purity"
   ]
  },
  {
   "cell_type": "code",
   "execution_count": null,
   "metadata": {},
   "outputs": [],
   "source": [
    "n_files = 100"
   ]
  },
  {
   "cell_type": "code",
   "execution_count": null,
   "metadata": {},
   "outputs": [],
   "source": [
    "files = [os.path.join(data_dir, f) for f in os.listdir(data_dir)]\n",
    "print('%i total files' % len(files))\n",
    "if n_files is not None:\n",
    "    files = files[:n_files]\n",
    "sample_results = [get_sample_results(f) for f in files if not 'ID' in f]\n",
    "n_nodes, n_edges, purity = zip(*sample_results)"
   ]
  },
  {
   "cell_type": "code",
   "execution_count": null,
   "metadata": {},
   "outputs": [],
   "source": [
    "plt.figure(figsize=(8,6))\n",
    "\n",
    "plt.hist(purity)\n",
    "plt.xlabel('purity')\n",
    "plt.ylabel('Number of events')\n"
   ]
  },
  {
   "cell_type": "code",
   "execution_count": null,
   "metadata": {},
   "outputs": [],
   "source": []
  }
 ],
 "metadata": {
  "kernelspec": {
   "display_name": "Python 3 (Belle2)",
   "language": "python",
   "name": "python3"
  },
  "language_info": {
   "codemirror_mode": {
    "name": "ipython",
    "version": 3
   },
   "file_extension": ".py",
   "mimetype": "text/x-python",
   "name": "python",
   "nbconvert_exporter": "python",
   "pygments_lexer": "ipython3",
   "version": "3.8.8"
  }
 },
 "nbformat": 4,
 "nbformat_minor": 2
}
